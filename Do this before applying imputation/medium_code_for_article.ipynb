{
 "cells": [
  {
   "cell_type": "markdown",
   "metadata": {},
   "source": [
    "Before we get to , lets quickly go over a few things:\n",
    "1) what is data imputtion?\n",
    "2) why we do imputation?\n",
    "3) the associated bais that comes with imputation\n",
    "4) the three types of missing values\n",
    "\n",
    "1) what is data imputation?\n",
    "Data imputation is the process of replacing missing values within a data set with substitute values like mean, median, and mode of said column. There are many ways of imputing data and there are a whole host of resources and articles about it. \n",
    "\n",
    "2) why impute data? \n",
    "The overall goal of data imputation is to retian as much of the data or variance as possible. This is becuase most of the predictve models used today cannot take missing values as input or ignore them in the modeling process. If you do not impute data, you must drop rows or even columns with missing values which could greatly reduce the amount of data you input into your model. When you impute missing values, you retain data but you also introduce bais into your data.\n",
    "\n",
    "3) the associated bais that comes with imputation\n",
    "Most data imputations techniques introduce bias into your data becuase you impute a single column of missing values with the same number or category: mean, median, or mode. Even when using more complex imputation techniques like regression or multiple imputation you introduce bias becuase the imputed data will not have as much variance as real data would. \n",
    "\n",
    "4) the three types of missing values\n",
    "Missing Completely at Random (MCAR) - this means that the missing values have no association with other data points wether missing or not missing. \n",
    "Missing at Random (MAR) - this means that the missing values is not related to other missing data but is related to some observed data\n",
    "Missing not at Random (MNAR) - this means that the missing values of said column are related to the obvservable values of that column even after controlling for other observable data.\n",
    "\n",
    "This article is about using techniques to understand the relationship between your observable data and your missing data. We will be preforming these steps:"
   ]
  }
 ],
 "metadata": {
  "kernelspec": {
   "display_name": "Python 3",
   "language": "python",
   "name": "python3"
  },
  "language_info": {
   "codemirror_mode": {
    "name": "ipython",
    "version": 3
   },
   "file_extension": ".py",
   "mimetype": "text/x-python",
   "name": "python",
   "nbconvert_exporter": "python",
   "pygments_lexer": "ipython3",
   "version": "3.7.4"
  }
 },
 "nbformat": 4,
 "nbformat_minor": 2
}
